{
 "cells": [
  {
   "cell_type": "code",
   "execution_count": 1,
   "metadata": {},
   "outputs": [
    {
     "name": "stdout",
     "output_type": "stream",
     "text": [
      "Pick a play hermerlll\n",
      "Wow this is embarrassing... hermerlll isn't actually a play.\n",
      "Enter y to try again or n to quit: n\n"
     ]
    },
    {
     "ename": "SystemExit",
     "evalue": "0",
     "output_type": "error",
     "traceback": [
      "An exception has occurred, use %tb to see the full traceback.\n",
      "\u001b[0;31mSystemExit\u001b[0m\u001b[0;31m:\u001b[0m 0\n"
     ]
    },
    {
     "name": "stderr",
     "output_type": "stream",
     "text": [
      "/anaconda3/lib/python3.6/site-packages/IPython/core/interactiveshell.py:2918: UserWarning: To exit: use 'exit', 'quit', or Ctrl-D.\n",
      "  warn(\"To exit: use 'exit', 'quit', or Ctrl-D.\", stacklevel=1)\n"
     ]
    }
   ],
   "source": [
    "import pandas as pd\n",
    "import sqlite3\n",
    "from sqlite3 import Error\n",
    "from sys import exit\n",
    "import re\n",
    "\n",
    "#this method will restart the app if the user inputs a play that doesn't match a real title\n",
    "def restart_app():\n",
    "    try:\n",
    "        restart = input(\"Enter y to try again or n to quit: \")\n",
    "        if restart == \"y\":\n",
    "            return True\n",
    "        if restart == \"n\":\n",
    "            exit(0)\n",
    "    except ValueError:\n",
    "        print (\"Please enter y or n.\")\n",
    "        return True\n",
    "\n",
    "\n",
    "\n",
    "finished = False\n",
    "while not finished:\n",
    "    play = input(\"Pick a play \")#getting user input to create variables that will be used in the query\n",
    "\n",
    "#remove whitespace, special characters, and capitalization\n",
    "    play_choice = re.sub('\\W+','', play.lower())\n",
    "\n",
    "#connect to database and test to make sure the play actually exists\n",
    "    conn = sqlite3.connect('shakespeares_works.db')#connect to database\n",
    "    cur = conn.cursor()\n",
    "    play_search = play_choice\n",
    "    cur.execute(\"SELECT * FROM shakespeares_works WHERE searchname=?\", (play_search,))\n",
    "    playtest = cur.fetchall()        \n",
    "    conn.close()\n",
    "\n",
    "    if len(playtest) < 1: #if the query returns an empty string, restart the app\n",
    "        print(\"Wow this is embarrassing... \" + play + \" isn't actually a play.\"),\n",
    "        restart_app()\n",
    "    else: #otherwise you keep going\n",
    "        print(\"Solid. You picked \" + play + \".\")\n",
    "        finished = True"
   ]
  },
  {
   "cell_type": "code",
   "execution_count": null,
   "metadata": {},
   "outputs": [],
   "source": [
    "#this method will restart the app if the user inputs a play that doesn't match a real title\n",
    "def restart_act():\n",
    "    try:\n",
    "        restart = input(\"Enter y to try again or n to quit: \")\n",
    "        if restart == \"y\":\n",
    "            return True\n",
    "        if restart == \"n\":\n",
    "            exit(0)\n",
    "        raise ValueError\n",
    "    except ValueError:\n",
    "        print (\"Please enter y or n.\")\n",
    "        return True\n",
    "\n",
    "finished = False\n",
    "while not finished:\n",
    "    act = input(\"You've picked \" + play + \". Now pick an act! \")#getting user input to create variables that will be used in the query\n",
    "\n",
    "    conn = sqlite3.connect('shakespeares_works.db')#connect to database\n",
    "    cur = conn.cursor()\n",
    "    play_search = play_choice\n",
    "    cur.execute(\"SELECT PlayerLine FROM shakespeares_works WHERE searchname=? AND ActSceneLine LIKE ?\", (play_search, act+'%'))\n",
    "    acttest = cur.fetchall()        \n",
    "    conn.close()\n",
    "    if len(acttest) < 1: #if the query returns an empty string, restart the app\n",
    "        print(\"Oh boy... there is no act \" + act + \" in \" + play + \" . Wanna try again?\"),\n",
    "        restart_act()\n",
    "    else: #otherwise you keep going\n",
    "        print(\"So, you want to see the words from Act \" + str(act) + \" of \" + play + \".\")\n",
    "        finished = True"
   ]
  },
  {
   "cell_type": "code",
   "execution_count": null,
   "metadata": {},
   "outputs": [],
   "source": [
    "conn = sqlite3.connect('shakespeares_works.db')#connect to database\n",
    "cur = conn.cursor()\n",
    "play_search = (play_choice)\n",
    "cur.execute(\"SELECT PlayerLine FROM shakespeares_works WHERE searchname=? AND ActSceneLine LIKE ?\", (play_search, act+'%'))#take the user's input for play and act choice and query the db\n",
    "words = cur.fetchall() #variable to hold what's returned by the sql query\n",
    "conn.close()"
   ]
  },
  {
   "cell_type": "code",
   "execution_count": null,
   "metadata": {},
   "outputs": [],
   "source": [
    "%matplotlib inline\n",
    "from os import path\n",
    "from scipy.misc import imread\n",
    "import matplotlib.pyplot as plt\n",
    "import random\n",
    "import numpy as np\n",
    "from PIL import Image\n",
    "\n",
    "# mask = np.array(Image.open(path.join(d, \"stormtrooper_mask.png\")))\n",
    "\n",
    "# mask = np.array(Image.open(\"Photos/quill-with-ink-copy.png\"))\n",
    "from wordcloud import WordCloud, STOPWORDS\n",
    "stopit = set(STOPWORDS) #set variable for list of stop words as a set\n",
    "shake_stop = ['thee', 'tis', 'us', 'yet', 'hath', 'will', 'thou', 'ay', 'nay', 'well', 'thy', 'doth', 'upon', 'come', 'now', 'make']#additional middle english\n",
    "for word in shake_stop:\n",
    "    stopit.add(word) #add in shakespearean stop words to the modern set\n",
    "text = str(words)\n",
    "wordcloud = WordCloud(font_path='/Library/Fonts/Helvetica.dfont',\n",
    "                      relative_scaling = 1,\n",
    "                      stopwords = stopit, # set or space-separated string\n",
    "#                       mask=mask\n",
    "                      ).generate(text)\n",
    "plt.imshow(wordcloud)\n",
    "plt.axis(\"off\")\n",
    "plt.show()"
   ]
  }
 ],
 "metadata": {
  "kernelspec": {
   "display_name": "Python 3",
   "language": "python",
   "name": "python3"
  },
  "language_info": {
   "codemirror_mode": {
    "name": "ipython",
    "version": 3
   },
   "file_extension": ".py",
   "mimetype": "text/x-python",
   "name": "python",
   "nbconvert_exporter": "python",
   "pygments_lexer": "ipython3",
   "version": "3.6.4"
  }
 },
 "nbformat": 4,
 "nbformat_minor": 2
}
