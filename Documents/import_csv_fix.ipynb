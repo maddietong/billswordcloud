{
 "cells": [
  {
   "cell_type": "markdown",
   "metadata": {},
   "source": [
    "Importing Libraries"
   ]
  },
  {
   "cell_type": "code",
   "execution_count": 1,
   "metadata": {},
   "outputs": [],
   "source": [
    "import pandas as pd\n",
    "import sqlite3\n",
    "from sqlite3 import Error\n",
    "import csv\n",
    "import re"
   ]
  },
  {
   "cell_type": "markdown",
   "metadata": {},
   "source": [
    "Reading dataframe from csv and checking if dataframe is correct"
   ]
  },
  {
   "cell_type": "code",
   "execution_count": 2,
   "metadata": {
    "scrolled": true
   },
   "outputs": [
    {
     "data": {
      "text/html": [
       "<div>\n",
       "<style scoped>\n",
       "    .dataframe tbody tr th:only-of-type {\n",
       "        vertical-align: middle;\n",
       "    }\n",
       "\n",
       "    .dataframe tbody tr th {\n",
       "        vertical-align: top;\n",
       "    }\n",
       "\n",
       "    .dataframe thead th {\n",
       "        text-align: right;\n",
       "    }\n",
       "</style>\n",
       "<table border=\"1\" class=\"dataframe\">\n",
       "  <thead>\n",
       "    <tr style=\"text-align: right;\">\n",
       "      <th></th>\n",
       "      <th>Dataline</th>\n",
       "      <th>Play</th>\n",
       "      <th>PlayerLinenumber</th>\n",
       "      <th>ActSceneLine</th>\n",
       "      <th>Player</th>\n",
       "      <th>PlayerLine</th>\n",
       "    </tr>\n",
       "  </thead>\n",
       "  <tbody>\n",
       "    <tr>\n",
       "      <th>0</th>\n",
       "      <td>1</td>\n",
       "      <td>Henry IV</td>\n",
       "      <td>NaN</td>\n",
       "      <td>NaN</td>\n",
       "      <td>NaN</td>\n",
       "      <td>ACT I</td>\n",
       "    </tr>\n",
       "    <tr>\n",
       "      <th>1</th>\n",
       "      <td>2</td>\n",
       "      <td>Henry IV</td>\n",
       "      <td>NaN</td>\n",
       "      <td>NaN</td>\n",
       "      <td>NaN</td>\n",
       "      <td>SCENE I. London. The palace.</td>\n",
       "    </tr>\n",
       "    <tr>\n",
       "      <th>2</th>\n",
       "      <td>3</td>\n",
       "      <td>Henry IV</td>\n",
       "      <td>NaN</td>\n",
       "      <td>NaN</td>\n",
       "      <td>NaN</td>\n",
       "      <td>Enter KING HENRY, LORD JOHN OF LANCASTER, the ...</td>\n",
       "    </tr>\n",
       "    <tr>\n",
       "      <th>3</th>\n",
       "      <td>4</td>\n",
       "      <td>Henry IV</td>\n",
       "      <td>1.0</td>\n",
       "      <td>1.1.1</td>\n",
       "      <td>KING HENRY IV</td>\n",
       "      <td>So shaken as we are, so wan with care,</td>\n",
       "    </tr>\n",
       "    <tr>\n",
       "      <th>4</th>\n",
       "      <td>5</td>\n",
       "      <td>Henry IV</td>\n",
       "      <td>1.0</td>\n",
       "      <td>1.1.2</td>\n",
       "      <td>KING HENRY IV</td>\n",
       "      <td>Find we a time for frighted peace to pant,</td>\n",
       "    </tr>\n",
       "  </tbody>\n",
       "</table>\n",
       "</div>"
      ],
      "text/plain": [
       "   Dataline      Play  PlayerLinenumber ActSceneLine         Player  \\\n",
       "0         1  Henry IV               NaN          NaN            NaN   \n",
       "1         2  Henry IV               NaN          NaN            NaN   \n",
       "2         3  Henry IV               NaN          NaN            NaN   \n",
       "3         4  Henry IV               1.0        1.1.1  KING HENRY IV   \n",
       "4         5  Henry IV               1.0        1.1.2  KING HENRY IV   \n",
       "\n",
       "                                          PlayerLine  \n",
       "0                                              ACT I  \n",
       "1                       SCENE I. London. The palace.  \n",
       "2  Enter KING HENRY, LORD JOHN OF LANCASTER, the ...  \n",
       "3             So shaken as we are, so wan with care,  \n",
       "4         Find we a time for frighted peace to pant,  "
      ]
     },
     "execution_count": 2,
     "metadata": {},
     "output_type": "execute_result"
    }
   ],
   "source": [
    "df = pd.read_csv(\"Shakespeare_data.csv\")#read CSV into jupyter notebook\n",
    "df.head()#return n rows"
   ]
  },
  {
   "cell_type": "markdown",
   "metadata": {},
   "source": [
    "Creating a searchterm that is a lowercase version of the name with spaces removed"
   ]
  },
  {
   "cell_type": "code",
   "execution_count": 3,
   "metadata": {},
   "outputs": [
    {
     "name": "stdout",
     "output_type": "stream",
     "text": [
      "0              henryiv\n",
      "1              henryiv\n",
      "2              henryiv\n",
      "3              henryiv\n",
      "4              henryiv\n",
      "5              henryiv\n",
      "6              henryiv\n",
      "7              henryiv\n",
      "8              henryiv\n",
      "9              henryiv\n",
      "10             henryiv\n",
      "11             henryiv\n",
      "12             henryiv\n",
      "13             henryiv\n",
      "14             henryiv\n",
      "15             henryiv\n",
      "16             henryiv\n",
      "17             henryiv\n",
      "18             henryiv\n",
      "19             henryiv\n",
      "20             henryiv\n",
      "21             henryiv\n",
      "22             henryiv\n",
      "23             henryiv\n",
      "24             henryiv\n",
      "25             henryiv\n",
      "26             henryiv\n",
      "27             henryiv\n",
      "28             henryiv\n",
      "29             henryiv\n",
      "              ...     \n",
      "111366    awinterstale\n",
      "111367    awinterstale\n",
      "111368    awinterstale\n",
      "111369    awinterstale\n",
      "111370    awinterstale\n",
      "111371    awinterstale\n",
      "111372    awinterstale\n",
      "111373    awinterstale\n",
      "111374    awinterstale\n",
      "111375    awinterstale\n",
      "111376    awinterstale\n",
      "111377    awinterstale\n",
      "111378    awinterstale\n",
      "111379    awinterstale\n",
      "111380    awinterstale\n",
      "111381    awinterstale\n",
      "111382    awinterstale\n",
      "111383    awinterstale\n",
      "111384    awinterstale\n",
      "111385    awinterstale\n",
      "111386    awinterstale\n",
      "111387    awinterstale\n",
      "111388    awinterstale\n",
      "111389    awinterstale\n",
      "111390    awinterstale\n",
      "111391    awinterstale\n",
      "111392    awinterstale\n",
      "111393    awinterstale\n",
      "111394    awinterstale\n",
      "111395    awinterstale\n",
      "Name: searchname, Length: 111396, dtype: object\n"
     ]
    }
   ],
   "source": [
    "df['searchname'] = df['Play'].str.lower().str.replace(' ', '')\n",
    "print(df['searchname'])"
   ]
  },
  {
   "cell_type": "markdown",
   "metadata": {},
   "source": [
    "Sending to sqlite database"
   ]
  },
  {
   "cell_type": "code",
   "execution_count": 4,
   "metadata": {},
   "outputs": [],
   "source": [
    "conn = sqlite3.connect('shakespeares_works.db')#connect to database\n",
    "cur = conn.cursor()\n",
    "df.to_sql(\"shakespeares_works\", conn, if_exists=\"replace\")#convert Shakespeare_data dataframe to sql\n",
    "conn.close()\n",
    "  \n",
    "\n"
   ]
  }
 ],
 "metadata": {
  "kernelspec": {
   "display_name": "Python 3",
   "language": "python",
   "name": "python3"
  },
  "language_info": {
   "codemirror_mode": {
    "name": "ipython",
    "version": 3
   },
   "file_extension": ".py",
   "mimetype": "text/x-python",
   "name": "python",
   "nbconvert_exporter": "python",
   "pygments_lexer": "ipython3",
   "version": "3.6.4"
  }
 },
 "nbformat": 4,
 "nbformat_minor": 2
}
